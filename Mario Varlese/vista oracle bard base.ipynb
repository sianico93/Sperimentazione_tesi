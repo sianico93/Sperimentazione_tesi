{
 "cells": [
  {
   "cell_type": "code",
   "execution_count": 6,
   "metadata": {},
   "outputs": [
    {
     "ename": "DatabaseError",
     "evalue": "ORA-00933: comando SQL terminato erroneamente",
     "output_type": "error",
     "traceback": [
      "\u001b[1;31m---------------------------------------------------------------------------\u001b[0m",
      "\u001b[1;31mDatabaseError\u001b[0m                             Traceback (most recent call last)",
      "\u001b[1;32mUntitled-2.ipynb Cell 1\u001b[0m line \u001b[0;36m1\n\u001b[1;32m----> <a href='vscode-notebook-cell:Untitled-2.ipynb?jupyter-notebook#W0sdW50aXRsZWQ%3D?line=0'>1</a>\u001b[0m get_ipython()\u001b[39m.\u001b[39;49mrun_cell_magic(\u001b[39m'\u001b[39;49m\u001b[39mtimeit\u001b[39;49m\u001b[39m'\u001b[39;49m, \u001b[39m'\u001b[39;49m\u001b[39m-r 10 -n 30\u001b[39;49m\u001b[39m'\u001b[39;49m, \u001b[39m'\u001b[39;49m\u001b[39m\\n\u001b[39;49;00m\u001b[39mimport cx_Oracle\u001b[39;49m\u001b[39m\\n\u001b[39;49;00m\u001b[39m\\n\u001b[39;49;00m\u001b[39m# Connessione al database Oracle\u001b[39;49m\u001b[39m\\n\u001b[39;49;00m\u001b[39mconn = cx_Oracle.connect(\u001b[39;49m\u001b[39m\"\u001b[39;49m\u001b[39mSYSTEM\u001b[39;49m\u001b[39m\"\u001b[39;49m\u001b[39m, \u001b[39;49m\u001b[39m\"\u001b[39;49m\u001b[39moirad1993\u001b[39;49m\u001b[39m\"\u001b[39;49m\u001b[39m, \u001b[39;49m\u001b[39m\"\u001b[39;49m\u001b[39mlocalhost:1521/XEPDB1\u001b[39;49m\u001b[39m\"\u001b[39;49m\u001b[39m)\u001b[39;49m\u001b[39m\\n\u001b[39;49;00m\u001b[39m\\n\u001b[39;49;00m\u001b[39m# Esegue la query per creare la vista\u001b[39;49m\u001b[39m\\n\u001b[39;49;00m\u001b[39mcur = conn.cursor()\u001b[39;49m\u001b[39m\\n\u001b[39;49;00m\u001b[39mcur.execute(\u001b[39;49m\u001b[39m\"\u001b[39;49m\u001b[39m\"\u001b[39;49m\u001b[39m\"\u001b[39;49m\u001b[39m\\n\u001b[39;49;00m\u001b[39mCREATE VIEW VistaManipolazioneDati2 AS\u001b[39;49m\u001b[39m\\n\u001b[39;49;00m\u001b[39mSELECT\u001b[39;49m\u001b[39m\\n\u001b[39;49;00m\u001b[39m    AE.ID AS APPARECCHIATURAID,\u001b[39;49m\u001b[39m\\n\u001b[39;49;00m\u001b[39m    \u001b[39;49m\u001b[39m\\'\u001b[39;49;00m\u001b[39mModello: \u001b[39;49m\u001b[39m\\'\u001b[39;49;00m\u001b[39m || AE.NOMEMODELLO || \u001b[39;49m\u001b[39m\\'\u001b[39;49;00m\u001b[39m (ID: \u001b[39;49m\u001b[39m\\'\u001b[39;49;00m\u001b[39m || AE.ID || \u001b[39;49m\u001b[39m\\'\u001b[39;49;00m\u001b[39m)\u001b[39;49m\u001b[39m\\'\u001b[39;49;00m\u001b[39m AS DESCRIZIONEMODELLO,\u001b[39;49m\u001b[39m\\n\u001b[39;49;00m\u001b[39m    AE.NUMEROSERIE AS NUMEROSERIE,\u001b[39;49m\u001b[39m\\n\u001b[39;49;00m\u001b[39m    TO_CHAR(AE.DATAPRODUZIONE, \u001b[39;49m\u001b[39m\\'\u001b[39;49;00m\u001b[39mDD/MM/YYYY\u001b[39;49m\u001b[39m\\'\u001b[39;49;00m\u001b[39m) AS DATAPRODUZIONEFORMATTATA,\u001b[39;49m\u001b[39m\\n\u001b[39;49;00m\u001b[39m    UPPER(AE.REPARTO) AS REPARTOMAIUSCOLO,\u001b[39;49m\u001b[39m\\n\u001b[39;49;00m\u001b[39m    \u001b[39;49m\u001b[39m\\'\u001b[39;49;00m\u001b[39mFornitore: \u001b[39;49m\u001b[39m\\'\u001b[39;49;00m\u001b[39m || AE.FORNITORE || \u001b[39;49m\u001b[39m\\'\u001b[39;49;00m\u001b[39m, Acquisto: \u001b[39;49m\u001b[39m\\'\u001b[39;49;00m\u001b[39m || TO_CHAR(AE.DATAACQUISTO, \u001b[39;49m\u001b[39m\\'\u001b[39;49;00m\u001b[39mDD/MM/YYYY\u001b[39;49m\u001b[39m\\'\u001b[39;49;00m\u001b[39m) AS DETTAGLIACQUISTO,\u001b[39;49m\u001b[39m\\n\u001b[39;49;00m\u001b[39m    NVL(AE.CLIENTE, \u001b[39;49m\u001b[39m\\'\u001b[39;49;00m\u001b[39mNESSUN CLIENTE\u001b[39;49m\u001b[39m\\'\u001b[39;49;00m\u001b[39m) AS CLIENTEODEFAULT,\u001b[39;49m\u001b[39m\\n\u001b[39;49;00m\u001b[39m    TRUNC(AE.GARANZIASCADENZA) - TRUNC(SYSDATE) AS GIORNIRIMANENTIGARANZIA,\u001b[39;49m\u001b[39m\\n\u001b[39;49;00m\u001b[39m    UPPER(AE.STATOPRODUZIONE) AS STATOPRODUZIONEMAIUSCOLO,\u001b[39;49m\u001b[39m\\n\u001b[39;49;00m\u001b[39m    \u001b[39;49m\u001b[39m\\'\u001b[39;49;00m\u001b[39mDimensioni: \u001b[39;49m\u001b[39m\\'\u001b[39;49;00m\u001b[39m || AE.DIMENSIONI || \u001b[39;49m\u001b[39m\\'\u001b[39;49;00m\u001b[39m, Peso: \u001b[39;49m\u001b[39m\\'\u001b[39;49;00m\u001b[39m || AE.PESO || \u001b[39;49m\u001b[39m\\'\u001b[39;49;00m\u001b[39m kg\u001b[39;49m\u001b[39m\\'\u001b[39;49;00m\u001b[39m AS DESCRIZIONEDIMENSIONIPESO\u001b[39;49m\u001b[39m\\n\u001b[39;49;00m\u001b[39mFROM APPARECCHIATUREELETTRONICHE AE;\u001b[39;49m\u001b[39m\\n\u001b[39;49;00m\u001b[39m\"\u001b[39;49m\u001b[39m\"\u001b[39;49m\u001b[39m\"\u001b[39;49m\u001b[39m)\u001b[39;49m\u001b[39m\\n\u001b[39;49;00m\u001b[39m\\n\u001b[39;49;00m\u001b[39m# Chiude il cursore\u001b[39;49m\u001b[39m\\n\u001b[39;49;00m\u001b[39mcur.close()\u001b[39;49m\u001b[39m\\n\u001b[39;49;00m\u001b[39m\\n\u001b[39;49;00m\u001b[39m# Disconnette dal database\u001b[39;49m\u001b[39m\\n\u001b[39;49;00m\u001b[39mconn.close()\u001b[39;49m\u001b[39m\\n\u001b[39;49;00m\u001b[39m'\u001b[39;49m)\n",
      "File \u001b[1;32m~\\AppData\\Roaming\\Python\\Python311\\site-packages\\IPython\\core\\interactiveshell.py:2478\u001b[0m, in \u001b[0;36mInteractiveShell.run_cell_magic\u001b[1;34m(self, magic_name, line, cell)\u001b[0m\n\u001b[0;32m   2476\u001b[0m \u001b[39mwith\u001b[39;00m \u001b[39mself\u001b[39m\u001b[39m.\u001b[39mbuiltin_trap:\n\u001b[0;32m   2477\u001b[0m     args \u001b[39m=\u001b[39m (magic_arg_s, cell)\n\u001b[1;32m-> 2478\u001b[0m     result \u001b[39m=\u001b[39m fn(\u001b[39m*\u001b[39;49margs, \u001b[39m*\u001b[39;49m\u001b[39m*\u001b[39;49mkwargs)\n\u001b[0;32m   2480\u001b[0m \u001b[39m# The code below prevents the output from being displayed\u001b[39;00m\n\u001b[0;32m   2481\u001b[0m \u001b[39m# when using magics with decodator @output_can_be_silenced\u001b[39;00m\n\u001b[0;32m   2482\u001b[0m \u001b[39m# when the last Python token in the expression is a ';'.\u001b[39;00m\n\u001b[0;32m   2483\u001b[0m \u001b[39mif\u001b[39;00m \u001b[39mgetattr\u001b[39m(fn, magic\u001b[39m.\u001b[39mMAGIC_OUTPUT_CAN_BE_SILENCED, \u001b[39mFalse\u001b[39;00m):\n",
      "File \u001b[1;32m~\\AppData\\Roaming\\Python\\Python311\\site-packages\\IPython\\core\\magics\\execution.py:1174\u001b[0m, in \u001b[0;36mExecutionMagics.timeit\u001b[1;34m(self, line, cell, local_ns)\u001b[0m\n\u001b[0;32m   1171\u001b[0m         \u001b[39mif\u001b[39;00m time_number \u001b[39m>\u001b[39m\u001b[39m=\u001b[39m \u001b[39m0.2\u001b[39m:\n\u001b[0;32m   1172\u001b[0m             \u001b[39mbreak\u001b[39;00m\n\u001b[1;32m-> 1174\u001b[0m all_runs \u001b[39m=\u001b[39m timer\u001b[39m.\u001b[39;49mrepeat(repeat, number)\n\u001b[0;32m   1175\u001b[0m best \u001b[39m=\u001b[39m \u001b[39mmin\u001b[39m(all_runs) \u001b[39m/\u001b[39m number\n\u001b[0;32m   1176\u001b[0m worst \u001b[39m=\u001b[39m \u001b[39mmax\u001b[39m(all_runs) \u001b[39m/\u001b[39m number\n",
      "File \u001b[1;32mc:\\Users\\dario\\AppData\\Local\\Programs\\Python\\Python311\\Lib\\timeit.py:206\u001b[0m, in \u001b[0;36mTimer.repeat\u001b[1;34m(self, repeat, number)\u001b[0m\n\u001b[0;32m    204\u001b[0m r \u001b[39m=\u001b[39m []\n\u001b[0;32m    205\u001b[0m \u001b[39mfor\u001b[39;00m i \u001b[39min\u001b[39;00m \u001b[39mrange\u001b[39m(repeat):\n\u001b[1;32m--> 206\u001b[0m     t \u001b[39m=\u001b[39m \u001b[39mself\u001b[39;49m\u001b[39m.\u001b[39;49mtimeit(number)\n\u001b[0;32m    207\u001b[0m     r\u001b[39m.\u001b[39mappend(t)\n\u001b[0;32m    208\u001b[0m \u001b[39mreturn\u001b[39;00m r\n",
      "File \u001b[1;32m~\\AppData\\Roaming\\Python\\Python311\\site-packages\\IPython\\core\\magics\\execution.py:158\u001b[0m, in \u001b[0;36mTimer.timeit\u001b[1;34m(self, number)\u001b[0m\n\u001b[0;32m    156\u001b[0m gc\u001b[39m.\u001b[39mdisable()\n\u001b[0;32m    157\u001b[0m \u001b[39mtry\u001b[39;00m:\n\u001b[1;32m--> 158\u001b[0m     timing \u001b[39m=\u001b[39m \u001b[39mself\u001b[39;49m\u001b[39m.\u001b[39;49minner(it, \u001b[39mself\u001b[39;49m\u001b[39m.\u001b[39;49mtimer)\n\u001b[0;32m    159\u001b[0m \u001b[39mfinally\u001b[39;00m:\n\u001b[0;32m    160\u001b[0m     \u001b[39mif\u001b[39;00m gcold:\n",
      "File \u001b[1;32m<magic-timeit>:8\u001b[0m, in \u001b[0;36minner\u001b[1;34m(_it, _timer)\u001b[0m\n",
      "\u001b[1;31mDatabaseError\u001b[0m: ORA-00933: comando SQL terminato erroneamente"
     ]
    }
   ],
   "source": [
    "%%timeit -r 10 -n 30\n",
    "\n",
    "import cx_Oracle\n",
    "\n",
    "# Connessione al database Oracle\n",
    "conn = cx_Oracle.connect(\"SYSTEM\", \"oirad1993\", \"localhost:1521/XEPDB1\")\n",
    "\n",
    "# Esegue la query per creare la vista\n",
    "cur = conn.cursor()\n",
    "cur.execute(\"\"\"\n",
    "CREATE VIEW VistaManipolazioneDati2 AS\n",
    "SELECT\n",
    "    AE.ID AS APPARECCHIATURAID,\n",
    "    'Modello: ' || AE.NOMEMODELLO || ' (ID: ' || AE.ID || ')' AS DESCRIZIONEMODELLO,\n",
    "    AE.NUMEROSERIE AS NUMEROSERIE,\n",
    "    TO_CHAR(AE.DATAPRODUZIONE, 'DD/MM/YYYY') AS DATAPRODUZIONEFORMATTATA,\n",
    "    UPPER(AE.REPARTO) AS REPARTOMAIUSCOLO,\n",
    "    'Fornitore: ' || AE.FORNITORE || ', Acquisto: ' || TO_CHAR(AE.DATAACQUISTO, 'DD/MM/YYYY') AS DETTAGLIACQUISTO,\n",
    "    NVL(AE.CLIENTE, 'NESSUN CLIENTE') AS CLIENTEODEFAULT,\n",
    "    TRUNC(AE.GARANZIASCADENZA) - TRUNC(SYSDATE) AS GIORNIRIMANENTIGARANZIA,\n",
    "    UPPER(AE.STATOPRODUZIONE) AS STATOPRODUZIONEMAIUSCOLO,\n",
    "    'Dimensioni: ' || AE.DIMENSIONI || ', Peso: ' || AE.PESO || ' kg' AS DESCRIZIONEDIMENSIONIPESO\n",
    "FROM APPARECCHIATUREELETTRONICHE AE;\n",
    "\"\"\")\n",
    "\n",
    "# Chiude il cursore\n",
    "cur.close()\n",
    "\n",
    "# Disconnette dal database\n",
    "conn.close()\n"
   ]
  }
 ],
 "metadata": {
  "kernelspec": {
   "display_name": "Python 3",
   "language": "python",
   "name": "python3"
  },
  "language_info": {
   "codemirror_mode": {
    "name": "ipython",
    "version": 3
   },
   "file_extension": ".py",
   "mimetype": "text/x-python",
   "name": "python",
   "nbconvert_exporter": "python",
   "pygments_lexer": "ipython3",
   "version": "3.11.5"
  }
 },
 "nbformat": 4,
 "nbformat_minor": 2
}
