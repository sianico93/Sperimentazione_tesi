{
 "cells": [
  {
   "cell_type": "code",
   "execution_count": 3,
   "metadata": {},
   "outputs": [
    {
     "name": "stdout",
     "output_type": "stream",
     "text": [
      "13.8 ms ± 501 µs per loop (mean ± std. dev. of 10 runs, 30 loops each)\n"
     ]
    }
   ],
   "source": [
    "%%timeit -r 10 -n 30\n",
    "\n",
    "import mysql.connector\n",
    "\n",
    "# Configura la connessione al database MySQL\n",
    "connessione = mysql.connector.connect(\n",
    "    host=\"localhost\", \n",
    "    user=\"root\",  \n",
    "    password=\"oirad1993\",  \n",
    "    database=\"database4test\"  \n",
    ")\n",
    "\n",
    "# Crea un cursore per eseguire query SQL\n",
    "cursor = connessione.cursor()\n",
    "\n",
    "# Query SQL tradotta in Python\n",
    "query = \"\"\"\n",
    "SELECT ae.NomeModello\n",
    "FROM ApparecchiatureElettroniche ae\n",
    "WHERE ae.NomeModello IN (\n",
    "    SELECT ae_inner.NomeModello\n",
    "    FROM ApparecchiatureElettroniche ae_inner\n",
    "    WHERE SHA2(ae_inner.ManualeUtente, 256) = SHA2(ae.ManualeUtente, 256)\n",
    "          AND LENGTH(ae_inner.ManualeUtente) > 0\n",
    "          AND ae_inner.ID IN (\n",
    "              SELECT po.ID\n",
    "              FROM ProdottiOrdinati po\n",
    "              WHERE po.NumeroOrdine IN (\n",
    "                  SELECT oc.NumeroOrdine\n",
    "                  FROM OrdiniClienti oc\n",
    "                  WHERE oc.CittaSpedizione = 'Milano'\n",
    "                        AND oc.DataOrdine BETWEEN '2023-01-01' AND '2023-07-31'\n",
    "              )\n",
    "          )\n",
    ");\n",
    "\"\"\"\n",
    "\n",
    "# Esegui la query\n",
    "cursor.execute(query)\n",
    "\n",
    "# Ottieni i risultati della query\n",
    "risultati = cursor.fetchall()\n",
    "\n",
    "# Stampa i risultati\n",
    "for risultato in risultati:\n",
    "    print(risultato[0])\n",
    "\n",
    "# Chiudi la connessione al database\n",
    "connessione.close()"
   ]
  }
 ],
 "metadata": {
  "kernelspec": {
   "display_name": "Python 3",
   "language": "python",
   "name": "python3"
  },
  "language_info": {
   "codemirror_mode": {
    "name": "ipython",
    "version": 3
   },
   "file_extension": ".py",
   "mimetype": "text/x-python",
   "name": "python",
   "nbconvert_exporter": "python",
   "pygments_lexer": "ipython3",
   "version": "3.11.5"
  }
 },
 "nbformat": 4,
 "nbformat_minor": 2
}
