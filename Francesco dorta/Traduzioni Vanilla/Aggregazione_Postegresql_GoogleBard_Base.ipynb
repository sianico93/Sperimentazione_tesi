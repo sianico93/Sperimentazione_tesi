import pandas as pd

# Importiamo la libreria Pandas

# Connessione al database
conn = psycopg2.connect(
    host="localhost",
    port=5432,
    database="database4test",
    user="postgres",
    password="oirad1993"
)

# Creiamo un cursore
cursor = conn.cursor()

# Eseguiamo la query SQL
cursor.execute("""
SELECT 
    ae.TipoProdotto,
    EXTRACT(YEAR FROM ae.DataProduzione) AS AnnoProduzione,
    SUM(OCTET_LENGTH(ae.ManualeUtente)) AS DimensioneTotaleManuali
FROM ApparecchiatureElettroniche ae
GROUP BY ae.TipoProdotto, EXTRACT(YEAR FROM ae.DataProduzione);
""")

# Estraiamo i risultati della query
results = cursor.fetchall()

# Chiudiamo il cursore
cursor.close()

# Chiudiamo la connessione al database
conn.close()

# Creiamo un DataFrame Pandas dai risultati della query
df = pd.DataFrame(results, columns=["TipoProdotto", "AnnoProduzione", "DimensioneTotaleManuali"])

# Stampiamo il DataFrame
print(df)