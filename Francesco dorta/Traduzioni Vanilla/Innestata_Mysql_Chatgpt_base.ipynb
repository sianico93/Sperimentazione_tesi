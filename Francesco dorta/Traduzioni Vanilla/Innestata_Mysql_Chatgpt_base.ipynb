%%timeit -r 10 -n 30

import mysql.connector

# Configura la connessione al database MySQL
connessione = mysql.connector.connect(
    host="localhost", 
    user="root",  
    password="oirad1993",  
    database="database4test"  
)

# Crea un cursore per eseguire query SQL
cursor = connessione.cursor()

# Query SQL tradotta in Python
query = """
SELECT ae.NomeModello
FROM ApparecchiatureElettroniche ae
WHERE ae.NomeModello IN (
    SELECT ae_inner.NomeModello
    FROM ApparecchiatureElettroniche ae_inner
    WHERE SHA2(ae_inner.ManualeUtente, 256) = SHA2(ae.ManualeUtente, 256)
          AND LENGTH(ae_inner.ManualeUtente) > 0
          AND ae_inner.ID IN (
              SELECT po.ID
              FROM ProdottiOrdinati po
              WHERE po.NumeroOrdine IN (
                  SELECT oc.NumeroOrdine
                  FROM OrdiniClienti oc
                  WHERE oc.CittaSpedizione = 'Milano'
                        AND oc.DataOrdine BETWEEN '2023-01-01' AND '2023-07-31'
              )
          )
);
"""

# Esegui la query
cursor.execute(query)

# Ottieni i risultati della query
risultati = cursor.fetchall()

# Stampa i risultati
for risultato in risultati:
    print(risultato[0])

# Chiudi la connessione al database
connessione.close()