{
 "cells": [
  {
   "cell_type": "code",
   "execution_count": 4,
   "metadata": {},
   "outputs": [
    {
     "name": "stdout",
     "output_type": "stream",
     "text": [
      "104 ms ± 9.15 ms per loop (mean ± std. dev. of 10 runs, 30 loops each)\n"
     ]
    }
   ],
   "source": [
    "%%timeit -r 10 -n 30\n",
    "\n",
    "import psycopg2\n",
    "\n",
    "conn = psycopg2.connect(dbname=\"database4test\", user=\"postgres\", password=\"oirad1993\")\n",
    "cur = conn.cursor()\n",
    "\n",
    "query = \"\"\"\n",
    "SELECT ae_inner.\"nomemodello\"\n",
    "FROM \"apparecchiatureelettroniche\" ae_inner\n",
    "WHERE (\n",
    "    SELECT digest(CONCAT(ae_inner.\"manualeutente\", ae_inner.\"nomemodello\"), 'sha1')\n",
    "    ) = (\n",
    "    SELECT digest(CONCAT(ae.\"manualeutente\", ae.\"nomemodello\"), 'sha1')\n",
    "    FROM \"apparecchiatureelettroniche\" ae\n",
    "    WHERE ae.\"id\" = ae_inner.\"id\"\n",
    "    )\n",
    "    AND LENGTH(ae_inner.\"manualeutente\") > 0\n",
    "    AND ae_inner.\"id\" IN (\n",
    "        SELECT po.\"id\"\n",
    "        FROM \"prodottiordinati\" po\n",
    "        WHERE po.\"numeroordine\" IN (\n",
    "            SELECT oc.\"numeroordine\"\n",
    "            FROM \"ordiniclienti\" oc\n",
    "            WHERE oc.\"cittaspedizione\" = 'Milano'\n",
    "                AND oc.\"dataordine\" BETWEEN '2023-01-01' AND '2023-07-31'\n",
    "        )\n",
    "    );\n",
    "\n",
    "\"\"\"\n",
    "\n",
    "cur.execute(query)\n",
    "results = cur.fetchall()\n",
    "\n",
    "for row in results:\n",
    "    print(row[0])\n",
    "\n",
    "conn.close()\n"
   ]
  }
 ],
 "metadata": {
  "kernelspec": {
   "display_name": "Python 3",
   "language": "python",
   "name": "python3"
  },
  "language_info": {
   "codemirror_mode": {
    "name": "ipython",
    "version": 3
   },
   "file_extension": ".py",
   "mimetype": "text/x-python",
   "name": "python",
   "nbconvert_exporter": "python",
   "pygments_lexer": "ipython3",
   "version": "3.11.5"
  }
 },
 "nbformat": 4,
 "nbformat_minor": 2
}
