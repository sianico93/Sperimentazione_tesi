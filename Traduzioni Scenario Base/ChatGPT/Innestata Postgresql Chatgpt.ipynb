{
 "cells": [
  {
   "cell_type": "code",
   "execution_count": 1,
   "metadata": {},
   "outputs": [
    {
     "name": "stdout",
     "output_type": "stream",
     "text": [
      "103 ms ± 4.96 ms per loop (mean ± std. dev. of 10 runs, 30 loops each)\n"
     ]
    }
   ],
   "source": [
    "%%timeit -r 10 -n 30\n",
    "\n",
    "import psycopg2\n",
    "\n",
    "# Parametri di connessione al database PostgreSQL\n",
    "db_params = {\n",
    "    'host': 'localhost',\n",
    "    'database': 'database4test',\n",
    "    'user': 'postgres',\n",
    "    'password': 'oirad1993'\n",
    "}\n",
    "\n",
    "# Connessione al database\n",
    "conn = psycopg2.connect(**db_params)\n",
    "cursor = conn.cursor()\n",
    "\n",
    "# Query SQL\n",
    "sql_query = \"\"\"\n",
    "    SELECT ae_inner.\"nomemodello\"\n",
    "    FROM \"apparecchiatureelettroniche\" ae_inner\n",
    "    WHERE (\n",
    "        SELECT digest(CONCAT(ae_inner.\"manualeutente\", ae_inner.\"nomemodello\"), 'sha1')\n",
    "        ) = (\n",
    "        SELECT digest(CONCAT(ae.\"manualeutente\", ae.\"nomemodello\"), 'sha1')\n",
    "        FROM \"apparecchiatureelettroniche\" ae\n",
    "        WHERE ae.\"id\" = ae_inner.\"id\"\n",
    "        )\n",
    "        AND LENGTH(ae_inner.\"manualeutente\") > 0\n",
    "        AND ae_inner.\"id\" IN (\n",
    "            SELECT po.\"id\"\n",
    "            FROM \"prodottiordinati\" po\n",
    "            WHERE po.\"numeroordine\" IN (\n",
    "                SELECT oc.\"numeroordine\"\n",
    "                FROM \"ordiniclienti\" oc\n",
    "                WHERE oc.\"cittaspedizione\" = 'Milano'\n",
    "                    AND oc.\"dataordine\" BETWEEN '2023-01-01' AND '2023-07-31'\n",
    "            )\n",
    "        );\n",
    "\"\"\"\n",
    "\n",
    "# Esecuzione della query\n",
    "cursor.execute(sql_query)\n",
    "\n",
    "# Recupero dei risultati\n",
    "results = cursor.fetchall()\n",
    "\n",
    "# Chiusura della connessione\n",
    "cursor.close()\n",
    "conn.close()\n",
    "\n",
    "# Stampa dei risultati\n",
    "for result in results:\n",
    "    print(result[0])\n"
   ]
  }
 ],
 "metadata": {
  "kernelspec": {
   "display_name": "Python 3",
   "language": "python",
   "name": "python3"
  },
  "language_info": {
   "codemirror_mode": {
    "name": "ipython",
    "version": 3
   },
   "file_extension": ".py",
   "mimetype": "text/x-python",
   "name": "python",
   "nbconvert_exporter": "python",
   "pygments_lexer": "ipython3",
   "version": "3.11.5"
  }
 },
 "nbformat": 4,
 "nbformat_minor": 2
}
