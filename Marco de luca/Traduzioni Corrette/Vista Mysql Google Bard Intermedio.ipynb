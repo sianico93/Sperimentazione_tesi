{
 "cells": [
  {
   "cell_type": "code",
   "execution_count": 6,
   "metadata": {},
   "outputs": [],
   "source": [
    "#%%timeit -r 10 -n 30\n",
    "\n",
    "import mysql.connector\n",
    "\n",
    "# Connessione al database\n",
    "try:\n",
    "    connection = mysql.connector.connect(\n",
    "        host='localhost',\n",
    "        user='root',\n",
    "        password='oirad1993',\n",
    "        database='database4test',\n",
    "        port=3306,\n",
    "    )\n",
    "except mysql.connector.errors.ConnectionError:\n",
    "    print('Connessione al database fallita')\n",
    "    exit(1)\n",
    "\n",
    "# Creazione della vista\n",
    "cursor = connection.cursor()\n",
    "cursor.execute('''CREATE VIEW VistaManipolazioneDati AS\n",
    "SELECT\n",
    "ae.ID AS ApparecchiaturaID,\n",
    "CONCAT('Modello: ', ae.NomeModello, ' (ID: ', ae.ID, ')') AS DescrizioneModello,\n",
    "ae.NumeroSerie AS NumeroSerie,\n",
    "DATE_FORMAT(ae.DataProduzione, '%d/%m/%Y') AS DataProduzioneFormattata,\n",
    "UPPER(ae.Reparto) AS RepartoMaiuscolo,\n",
    "CONCAT('Fornitore: ', ae.Fornitore, ', Acquisto: ', DATE_FORMAT(ae.DataAcquisto, '%d/%m/%Y')) AS DettagliAcquisto,\n",
    "IFNULL(ae.Cliente, 'Nessun cliente') AS ClienteODefault,\n",
    "DATEDIFF(ae.GaranziaScadenza, NOW()) AS GiorniRimanentiGaranzia,\n",
    "UPPER(ae.StatoProduzione) AS StatoProduzioneMaiuscolo,\n",
    "CONCAT('Dimensioni: ', ae.Dimensioni, ', Peso: ', ae.Peso, ' kg') AS DescrizioneDimensioniPeso\n",
    "FROM ApparecchiatureElettroniche ae;\n",
    "''')\n",
    "\n",
    "# Chiusura della connessione\n",
    "connection.close()\n"
   ]
  }
 ],
 "metadata": {
  "kernelspec": {
   "display_name": "Python 3",
   "language": "python",
   "name": "python3"
  },
  "language_info": {
   "codemirror_mode": {
    "name": "ipython",
    "version": 3
   },
   "file_extension": ".py",
   "mimetype": "text/x-python",
   "name": "python",
   "nbconvert_exporter": "python",
   "pygments_lexer": "ipython3",
   "version": "3.11.5"
  }
 },
 "nbformat": 4,
 "nbformat_minor": 2
}
